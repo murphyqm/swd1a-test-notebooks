{
 "cells": [
  {
   "cell_type": "markdown",
   "id": "f52cf60b-8a0a-4769-a4b5-f5ad65d54df6",
   "metadata": {},
   "source": [
    "# Python Fundamentals\n",
    "\n",
    "See [course notes here](https://arctraining.github.io/python-novice-inflammation/01-intro.html).\n",
    "\n",
    "## Remember to apply PRIMM\n",
    "\n",
    "When you see a piece of code, remember:\n",
    "\n",
    "1. Before you do anything else, **predict** what the output is going to be.\n",
    "2. Then **run** it, and compare the output to your prediction.\n",
    "3. You can begin to **investigate**, especially if your guess is way off - what information can you find in the notes, or online?\n",
    "4. Once you've tried to understand how the code works, try to **modify** it and make some changes.\n",
    "5. Then, you're ready to start **making** your own code!\n",
    "\n",
    "For this first section, we will mainly be looping back through stages 1 and 2 quite a bit!\n"
   ]
  },
  {
   "cell_type": "markdown",
   "id": "68b646dc-519d-4818-bf04-7b57f6c5e3fa",
   "metadata": {},
   "source": [
    "## Variables\n",
    "\n",
    "Any Python interpreter can be used as a calculator:"
   ]
  },
  {
   "cell_type": "code",
   "execution_count": null,
   "id": "43eb2cb6-3936-4ce0-a566-b14649e2a200",
   "metadata": {},
   "outputs": [],
   "source": [
    "3 + 5 * 4"
   ]
  },
  {
   "cell_type": "markdown",
   "id": "e50e5d89-dbc1-4a62-a7f6-0972b398932a",
   "metadata": {},
   "source": [
    "We can assign a value to a variable, using the equals sign ="
   ]
  },
  {
   "cell_type": "code",
   "execution_count": null,
   "id": "040026b9-9459-4e7e-bfd0-f2927f054d25",
   "metadata": {},
   "outputs": [],
   "source": [
    "weight_kg = 60"
   ]
  },
  {
   "cell_type": "markdown",
   "id": "a1a4f77d-ea44-4c80-9f57-38457a59b10c",
   "metadata": {},
   "source": [
    "How do we see what's saved to that variable?"
   ]
  },
  {
   "cell_type": "code",
   "execution_count": null,
   "id": "e9de5380-260a-4e99-9170-36e444f48964",
   "metadata": {},
   "outputs": [],
   "source": [
    "weight_kg"
   ]
  },
  {
   "cell_type": "markdown",
   "id": "959518c1-8359-4168-9ea7-49e39a801a12",
   "metadata": {},
   "source": [
    "What sort of variable names are valid?"
   ]
  },
  {
   "cell_type": "code",
   "execution_count": null,
   "id": "49222323-a116-4a3b-8994-9c514d0ca7a4",
   "metadata": {},
   "outputs": [],
   "source": [
    "0weight = 10"
   ]
  },
  {
   "cell_type": "code",
   "execution_count": null,
   "id": "b47bff17-a398-4026-bded-0cbe24bf366f",
   "metadata": {},
   "outputs": [],
   "source": [
    "Weight_KG = 70"
   ]
  },
  {
   "cell_type": "code",
   "execution_count": null,
   "id": "04ea414a-b3ef-42b1-8fbc-b0c08c67e2f6",
   "metadata": {},
   "outputs": [],
   "source": [
    "weight_kg"
   ]
  },
  {
   "cell_type": "code",
   "execution_count": null,
   "id": "19f1d573-5c96-4040-b438-8a42c7bed8e3",
   "metadata": {},
   "outputs": [],
   "source": [
    "Weight_KG"
   ]
  },
  {
   "cell_type": "code",
   "execution_count": null,
   "id": "96b070c5-179f-496f-af06-3c85a40bd06a",
   "metadata": {},
   "outputs": [],
   "source": []
  }
 ],
 "metadata": {
  "kernelspec": {
   "display_name": "Python 3 (ipykernel)",
   "language": "python",
   "name": "python3"
  },
  "language_info": {
   "codemirror_mode": {
    "name": "ipython",
    "version": 3
   },
   "file_extension": ".py",
   "mimetype": "text/x-python",
   "name": "python",
   "nbconvert_exporter": "python",
   "pygments_lexer": "ipython3",
   "version": "3.13.2"
  }
 },
 "nbformat": 4,
 "nbformat_minor": 5
}
