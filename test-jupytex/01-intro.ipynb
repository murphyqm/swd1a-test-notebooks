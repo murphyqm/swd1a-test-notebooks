{
 "cells": [
  {
   "cell_type": "markdown",
   "id": "af250164",
   "metadata": {},
   "source": [
    "# Python Fundamentals\n",
    "\n",
    "## Variables\n",
    "\n",
    "Any Python interpreter can be used as a calculator:"
   ]
  },
  {
   "cell_type": "code",
   "execution_count": null,
   "id": "4a3d4b34",
   "metadata": {},
   "outputs": [],
   "source": [
    "3 + 5 * 4"
   ]
  },
  {
   "cell_type": "markdown",
   "id": "208d0fe0",
   "metadata": {},
   "source": [
    "This is great but not very interesting.\n",
    "To do anything useful with data, we need to assign its value to a *variable*.\n",
    "In Python, we can assign a value to a\n",
    "variable, using the equals sign `=`.\n",
    "For example, we can track the weight of a patient who weighs 60 kilograms by\n",
    "assigning the value `60` to a variable `weight_kg`:"
   ]
  },
  {
   "cell_type": "code",
   "execution_count": null,
   "id": "e7bd64ac",
   "metadata": {},
   "outputs": [],
   "source": [
    "weight_kg = 60"
   ]
  },
  {
   "cell_type": "markdown",
   "id": "3d06adc4",
   "metadata": {},
   "source": [
    "From now on, whenever we use `weight_kg`, Python will substitute the value we assigned to\n",
    "it. In layperson's terms, **a variable is a name for a value**.\n",
    "\n",
    "In Python, variable names:\n",
    "\n",
    "- can include letters, digits, and underscores\n",
    "- cannot start with a digit\n",
    "- are case sensitive.\n",
    "\n",
    "This means that, for example:\n",
    "\n",
    "- `weight0` is a valid variable name, whereas `0weight` is not\n",
    "- `weight` and `Weight` are different variables\n",
    "\n",
    "## Types of data\n",
    "\n",
    "Python knows various types of data. Three common ones are:\n",
    "\n",
    "- integer numbers\n",
    "- floating point numbers, and\n",
    "- strings.\n",
    "\n",
    "In the example above, variable `weight_kg` has an integer value of `60`.\n",
    "If we want to more precisely track the weight of our patient,\n",
    "we can use a floating point value by executing:"
   ]
  },
  {
   "cell_type": "code",
   "execution_count": null,
   "id": "698599d1",
   "metadata": {},
   "outputs": [],
   "source": [
    "weight_kg = 60.3"
   ]
  },
  {
   "cell_type": "markdown",
   "id": "e81ef0e3",
   "metadata": {},
   "source": [
    "To create a string, we add single or double quotes around some text.\n",
    "To identify and track a patient throughout our study,\n",
    "we can assign each person a unique identifier by storing it in a string:"
   ]
  },
  {
   "cell_type": "code",
   "execution_count": null,
   "id": "aff21906",
   "metadata": {},
   "outputs": [],
   "source": [
    "patient_id = '001'"
   ]
  },
  {
   "cell_type": "markdown",
   "id": "e66c3e6c",
   "metadata": {},
   "source": [
    "## Using Variables in Python\n",
    "\n",
    "Once we have data stored with variable names, we can make use of it in calculations.\n",
    "We may want to store our patient's weight in pounds as well as kilograms:"
   ]
  },
  {
   "cell_type": "code",
   "execution_count": null,
   "id": "2ec49223",
   "metadata": {},
   "outputs": [],
   "source": [
    "weight_lb = 2.2 * weight_kg"
   ]
  },
  {
   "cell_type": "markdown",
   "id": "a2ffde6f",
   "metadata": {},
   "source": [
    "We might decide to add a prefix to our patient identifier:"
   ]
  },
  {
   "cell_type": "code",
   "execution_count": null,
   "id": "6c257273",
   "metadata": {},
   "outputs": [],
   "source": [
    "patient_id = 'inflam_' + patient_id"
   ]
  },
  {
   "cell_type": "markdown",
   "id": "e8522355",
   "metadata": {},
   "source": [
    "## Built-in Python functions\n",
    "\n",
    "To carry out common tasks with data and variables in Python,\n",
    "the language provides us with several built-in functions.\n",
    "To display information to the screen, we use the `print` function:"
   ]
  },
  {
   "cell_type": "code",
   "execution_count": null,
   "id": "7349a558",
   "metadata": {},
   "outputs": [],
   "source": [
    "print(weight_lb)\n",
    "print(patient_id)"
   ]
  },
  {
   "cell_type": "markdown",
   "id": "a10f501f",
   "metadata": {},
   "source": [
    "When we want to make use of a function, referred to as calling the function,\n",
    "we follow its name by parentheses. The parentheses are important:\n",
    "if you leave them off, the function doesn't actually run!\n",
    "Sometimes you will include values or variables inside the parentheses for the function to use.\n",
    "In the case of `print`,\n",
    "we use the parentheses to tell the function what value we want to display.\n",
    "We will learn more about how functions work and how to create our own in later episodes.\n",
    "\n",
    "We can display multiple things at once using only one `print` call:"
   ]
  },
  {
   "cell_type": "code",
   "execution_count": null,
   "id": "0d73afae",
   "metadata": {
    "lines_to_next_cell": 2
   },
   "outputs": [],
   "source": [
    "print(patient_id, 'weight in kilograms:', weight_kg)"
   ]
  },
  {
   "cell_type": "markdown",
   "id": "c9d8ae4d",
   "metadata": {},
   "source": [
    "We can also call a function inside of another function-call.\n",
    "For example, Python has a built-in function called `type` that tells you a value's data type:"
   ]
  },
  {
   "cell_type": "code",
   "execution_count": null,
   "id": "da0e04b8",
   "metadata": {
    "lines_to_next_cell": 2
   },
   "outputs": [],
   "source": [
    "print(type(60.3))\n",
    "print(type(patient_id))"
   ]
  },
  {
   "cell_type": "markdown",
   "id": "53e5c378",
   "metadata": {},
   "source": [
    "Moreover, we can do arithmetic with variables right inside the `print` function:"
   ]
  },
  {
   "cell_type": "code",
   "execution_count": null,
   "id": "e696116e",
   "metadata": {
    "lines_to_next_cell": 2
   },
   "outputs": [],
   "source": [
    "print('weight in pounds:', 2.2 * weight_kg)"
   ]
  },
  {
   "cell_type": "markdown",
   "id": "c3b6cede",
   "metadata": {},
   "source": [
    "The above command, however, did not change the value of `weight_kg`:"
   ]
  },
  {
   "cell_type": "code",
   "execution_count": null,
   "id": "a0689e21",
   "metadata": {},
   "outputs": [],
   "source": [
    "print(weight_kg)"
   ]
  },
  {
   "cell_type": "markdown",
   "id": "4c1c02f3",
   "metadata": {},
   "source": [
    "To change the value of the `weight_kg` variable, we have to\n",
    "**assign** `weight_kg` a new value using the equals `=` sign:"
   ]
  },
  {
   "cell_type": "code",
   "execution_count": null,
   "id": "c0119c86",
   "metadata": {
    "lines_to_next_cell": 2
   },
   "outputs": [],
   "source": [
    "weight_kg = 65.0\n",
    "print('weight in kilograms is now:', weight_kg)"
   ]
  },
  {
   "cell_type": "markdown",
   "id": "1e81fb8f",
   "metadata": {},
   "source": [
    "## Variables as Sticky Notes\n",
    "\n",
    "A variable in Python is analogous to a sticky note with a name written on it:\n",
    "assigning a value to a variable is like putting that sticky note on a particular value.\n",
    "Using this analogy, we can investigate how assigning a value to one variable\n",
    "does **not** change values of other, seemingly related, variables.  For\n",
    "example, let's store the subject's weight in pounds in its own variable:"
   ]
  },
  {
   "cell_type": "code",
   "execution_count": null,
   "id": "205edeb6",
   "metadata": {
    "lines_to_next_cell": 2
   },
   "outputs": [],
   "source": [
    "# There are 2.2 pounds per kilogram\n",
    "weight_lb = 2.2 * weight_kg\n",
    "print('weight in kilograms:', weight_kg, 'and in pounds:', weight_lb)"
   ]
  },
  {
   "cell_type": "markdown",
   "id": "d3ace3cd",
   "metadata": {},
   "source": [
    "Everything in a line of code following the '#' symbol is a\n",
    "comment that is ignored by Python.\n",
    "Comments allow programmers to leave explanatory notes for other\n",
    "programmers or their future selves.\n",
    "\n",
    "Similar to above, the expression `2.2 * weight_kg` is evaluated to `143.0`,\n",
    "and then this value is assigned to the variable `weight_lb` (i.e. the sticky\n",
    "note `weight_lb` is placed on `143.0`). At this point, each variable is\n",
    "\"stuck\" to completely distinct and unrelated values.\n",
    "\n",
    "Let's now change `weight_kg`:"
   ]
  },
  {
   "cell_type": "code",
   "execution_count": null,
   "id": "5b4154e9",
   "metadata": {},
   "outputs": [],
   "source": [
    "weight_kg = 100.0\n",
    "print('weight in kilograms is now:', weight_kg, 'and weight in pounds is still:', weight_lb)"
   ]
  },
  {
   "cell_type": "markdown",
   "id": "b9857ccb",
   "metadata": {},
   "source": [
    "Since `weight_lb` doesn't \"remember\" where its value comes from,\n",
    "it is not updated when we change `weight_kg`."
   ]
  },
  {
   "cell_type": "markdown",
   "id": "c5def2ea",
   "metadata": {},
   "source": [
    "## Check Your Understanding\n",
    "\n",
    "What values do the variables `mass` and `age` have after each of the following statements?\n",
    "Test your answer by executing the lines."
   ]
  },
  {
   "cell_type": "code",
   "execution_count": null,
   "id": "d773d24f",
   "metadata": {
    "lines_to_next_cell": 2
   },
   "outputs": [],
   "source": [
    "mass = 47.5\n",
    "age = 122\n",
    "mass = mass * 2.0\n",
    "age = age - 20"
   ]
  },
  {
   "cell_type": "markdown",
   "id": "b79c1149",
   "metadata": {},
   "source": [
    "## Sorting Out References\n",
    "\n",
    "Python allows you to assign multiple values to multiple variables in one line by separating\n",
    "the variables and values with commas. What does the following program print out?"
   ]
  },
  {
   "cell_type": "code",
   "execution_count": null,
   "id": "fbe26fa4",
   "metadata": {
    "lines_to_next_cell": 2
   },
   "outputs": [],
   "source": [
    "first, second = 'Grace', 'Hopper'\n",
    "third, fourth = second, first\n",
    "print(third, fourth)"
   ]
  },
  {
   "cell_type": "markdown",
   "id": "32d08b38",
   "metadata": {},
   "source": [
    "## Seeing Data Types\n",
    "\n",
    "What are the data types of the following variables?"
   ]
  },
  {
   "cell_type": "code",
   "execution_count": null,
   "id": "168bd434",
   "metadata": {
    "lines_to_next_cell": 2
   },
   "outputs": [],
   "source": [
    "planet = 'Earth'\n",
    "apples = 5\n",
    "distance = 10.5"
   ]
  },
  {
   "cell_type": "markdown",
   "id": "05d43fa3",
   "metadata": {},
   "source": [
    "## Solution"
   ]
  },
  {
   "cell_type": "code",
   "execution_count": null,
   "id": "1eae62a7",
   "metadata": {
    "lines_to_next_cell": 2
   },
   "outputs": [],
   "source": [
    "print(type(planet))\n",
    "print(type(apples))\n",
    "print(type(distance))"
   ]
  },
  {
   "cell_type": "markdown",
   "id": "aba182a9",
   "metadata": {},
   "source": [
    "- Basic data types in Python include integers, strings, and floating-point numbers.\n",
    "- Use `variable = value` to assign a value to a variable in order to record it in memory.\n",
    "- Variables are created on demand whenever a value is assigned to them.\n",
    "- Use `print(something)` to display the value of `something`.\n",
    "- Use `# some kind of explanation` to add comments to programs.\n",
    "- Built-in functions are always available to use.\n",
    "\n",
    "\n"
   ]
  }
 ],
 "metadata": {
  "jupytext": {
   "cell_metadata_filter": "-all",
   "main_language": "python",
   "notebook_metadata_filter": "-all"
  }
 },
 "nbformat": 4,
 "nbformat_minor": 5
}
