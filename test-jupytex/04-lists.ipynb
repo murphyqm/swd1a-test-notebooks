{
 "cells": [
  {
   "cell_type": "markdown",
   "id": "6387ce6d",
   "metadata": {},
   "source": [
    "In Python,\n",
    "a list is a way to store multiple values together. In this episode, we will learn how to store\n",
    "multiple values in a list as well as how to work with lists.\n",
    "\n",
    "## Python lists\n",
    "\n",
    "We create a list by putting values inside square brackets and separating the values with commas:"
   ]
  },
  {
   "cell_type": "code",
   "execution_count": null,
   "id": "90d2e9b7",
   "metadata": {},
   "outputs": [],
   "source": [
    "odds = [1, 3, 5, 7]\n",
    "print('odds are:', odds)"
   ]
  },
  {
   "cell_type": "markdown",
   "id": "608daedd",
   "metadata": {},
   "source": [
    "We can access elements of a list using indices -- numbered positions of elements in the list.\n",
    "These positions are numbered starting at 0, so the first element has an index of 0."
   ]
  },
  {
   "cell_type": "code",
   "execution_count": null,
   "id": "7bbf6618",
   "metadata": {},
   "outputs": [],
   "source": [
    "print('first element:', odds[0])\n",
    "print('last element:', odds[3])\n",
    "print('\"-1\" element:', odds[-1])"
   ]
  },
  {
   "cell_type": "markdown",
   "id": "3c77e7bf",
   "metadata": {},
   "source": [
    "Yes, we can use negative numbers as indices in Python. When we do so, the index `-1` gives us the\n",
    "last element in the list, `-2` the second to last, and so on.\n",
    "Because of this, `odds[3]` and `odds[-1]` point to the same element here.\n",
    "\n",
    "There is one important difference between lists and strings:\n",
    "we can change the values in a list,\n",
    "but we cannot change individual characters in a string.\n",
    "For example:"
   ]
  },
  {
   "cell_type": "code",
   "execution_count": null,
   "id": "4db70adf",
   "metadata": {},
   "outputs": [],
   "source": [
    "names = ['Curie', 'Darwing', 'Turing']  # typo in Darwin's name\n",
    "print('names is originally:', names)\n",
    "names[1] = 'Darwin'  # correct the name\n",
    "print('final value of names:', names)"
   ]
  },
  {
   "cell_type": "markdown",
   "id": "7173f47b",
   "metadata": {},
   "source": [
    "works, but:"
   ]
  },
  {
   "cell_type": "code",
   "execution_count": null,
   "id": "df9d9d10",
   "metadata": {},
   "outputs": [],
   "source": [
    "name = 'Darwin'\n",
    "name[0] = 'd'"
   ]
  },
  {
   "cell_type": "markdown",
   "id": "c2a775b2",
   "metadata": {},
   "source": [
    "does not."
   ]
  },
  {
   "cell_type": "markdown",
   "id": "b29a0351",
   "metadata": {},
   "source": [
    "## Ch-Ch-Ch-Ch-Changes\n",
    "\n",
    "Data which can be modified in place is called [mutable](../learners/reference.md#mutable),\n",
    "while data which cannot be modified is called\n",
    "[immutable](../learners/reference.md#immutable).\n",
    "Strings and numbers are immutable. This does not mean that variables with string or number values\n",
    "are constants, but when we want to change the value of a string or number variable, we can only\n",
    "replace the old value with a completely new value.\n",
    "\n",
    "Lists and arrays, on the other hand, are mutable: we can modify them after they have been\n",
    "created. We can change individual elements, append new elements, or reorder the whole list. For\n",
    "some operations, like sorting, we can choose whether to use a function that modifies the data\n",
    "in-place or a function that returns a modified copy and leaves the original unchanged.\n",
    "\n",
    "Be careful when modifying data in-place. If two variables refer to the same list, and you modify\n",
    "the list value, it will change for both variables!"
   ]
  },
  {
   "cell_type": "code",
   "execution_count": null,
   "id": "fe9329a4",
   "metadata": {},
   "outputs": [],
   "source": [
    "mild_salsa = ['peppers', 'onions', 'cilantro', 'tomatoes']\n",
    "hot_salsa = mild_salsa        # <-- mild_salsa and hot_salsa point to the *same* list data in memory\n",
    "hot_salsa[0] = 'hot peppers'\n",
    "print('Ingredients in mild salsa:', mild_salsa)\n",
    "print('Ingredients in hot salsa:', hot_salsa)"
   ]
  },
  {
   "cell_type": "markdown",
   "id": "52c69686",
   "metadata": {},
   "source": [
    "If you want variables with mutable values to be independent, you\n",
    "must make a copy of the value when you assign it."
   ]
  },
  {
   "cell_type": "code",
   "execution_count": null,
   "id": "2a1c0c99",
   "metadata": {
    "lines_to_next_cell": 2
   },
   "outputs": [],
   "source": [
    "mild_salsa = ['peppers', 'onions', 'cilantro', 'tomatoes']\n",
    "hot_salsa = list(mild_salsa)        # <-- makes a *copy* of the list\n",
    "hot_salsa[0] = 'hot peppers'\n",
    "print('Ingredients in mild salsa:', mild_salsa)\n",
    "print('Ingredients in hot salsa:', hot_salsa)"
   ]
  },
  {
   "cell_type": "markdown",
   "id": "d0242cfa",
   "metadata": {},
   "source": [
    "Because of pitfalls like this, code which modifies data in place can be more difficult to\n",
    "understand. However, it is often far more efficient to modify a large data structure in place\n",
    "than to create a modified copy for every small change. You should consider both of these aspects\n",
    "when writing your code."
   ]
  },
  {
   "cell_type": "markdown",
   "id": "92062373",
   "metadata": {},
   "source": [
    "## Nested Lists\n",
    "\n",
    "Since a list can contain any Python variables, it can even contain other lists.\n",
    "\n",
    "For example, you could represent the products on the shelves of a small grocery shop\n",
    "as a nested list called `veg`:\n",
    "\n",
    "![](https://raw.githubusercontent.com/ARCTraining/python-novice-inflammation/refs/heads/main/episodes/fig/04_groceries_veg.png){alt='veg is represented as a shelf full of produce. There are three rows of vegetableson the shelf, and each row contains three baskets of vegetables. We can labeleach basket according to the type of vegetable it contains, so the top rowcontains (from left to right) lettuce, lettuce, and peppers.'}\n",
    "\n",
    "To store the contents of the shelf in a nested list, you write it this way:"
   ]
  },
  {
   "cell_type": "code",
   "execution_count": null,
   "id": "7d4bfe56",
   "metadata": {},
   "outputs": [],
   "source": [
    "veg = [['lettuce', 'lettuce', 'peppers', 'zucchini'],\n",
    "     ['lettuce', 'lettuce', 'peppers', 'zucchini'],\n",
    "     ['lettuce', 'cilantro', 'peppers', 'zucchini']]"
   ]
  },
  {
   "cell_type": "markdown",
   "id": "55014243",
   "metadata": {},
   "source": [
    "Here are some visual examples of how indexing a list of lists `veg` works. First,\n",
    "you can reference each row on the shelf as a separate list. For example, `veg[2]`\n",
    "represents the bottom row, which is a list of the baskets in that row.\n",
    "\n",
    "![](https://raw.githubusercontent.com/ARCTraining/python-novice-inflammation/refs/heads/main/episodes/fig/04_groceries_veg0.png){alt='veg is now shown as a list of three rows, with veg\\[0\\] representing the top row ofthree baskets, veg\\[1\\] representing the second row, and veg\\[2\\] representing the bottom row.'}\n",
    "\n",
    "Index operations using the image would work like this:"
   ]
  },
  {
   "cell_type": "code",
   "execution_count": null,
   "id": "180e88b2",
   "metadata": {},
   "outputs": [],
   "source": [
    "print(veg[2])"
   ]
  },
  {
   "cell_type": "code",
   "execution_count": null,
   "id": "c5af6d01",
   "metadata": {
    "lines_to_next_cell": 2
   },
   "outputs": [],
   "source": [
    "print(veg[0])"
   ]
  },
  {
   "cell_type": "markdown",
   "id": "39fde95b",
   "metadata": {},
   "source": [
    "To reference a specific basket on a specific shelf, you use two indexes. The first\n",
    "index represents the row (from top to bottom) and the second index represents\n",
    "the specific basket (from left to right).\n",
    "![](https://raw.githubusercontent.com/ARCTraining/python-novice-inflammation/refs/heads/main/episodes/fig/04_groceries_veg00.png){alt='veg is now shown as a two-dimensional grid, with each basket labeled according toits index in the nested list. The first index is the row number and the secondindex is the basket number, so veg\\[1\\]\\[3\\] represents the basket on the far rightside of the second row (basket 4 on row 2): zucchini'}"
   ]
  },
  {
   "cell_type": "code",
   "execution_count": null,
   "id": "23f3ec09",
   "metadata": {
    "lines_to_next_cell": 2
   },
   "outputs": [],
   "source": [
    "print(veg[0][0])"
   ]
  },
  {
   "cell_type": "code",
   "execution_count": null,
   "id": "5636c3bf",
   "metadata": {
    "lines_to_next_cell": 2
   },
   "outputs": [],
   "source": [
    "print(veg[1][2])"
   ]
  },
  {
   "cell_type": "markdown",
   "id": "884e51d0",
   "metadata": {},
   "source": [
    "## Heterogeneous Lists\n",
    "\n",
    "Lists in Python can contain elements of different types. Example:"
   ]
  },
  {
   "cell_type": "code",
   "execution_count": null,
   "id": "4752e20a",
   "metadata": {
    "lines_to_next_cell": 2
   },
   "outputs": [],
   "source": [
    "sample_ages = [10, 12.5, 'Unknown']"
   ]
  },
  {
   "cell_type": "markdown",
   "id": "fa32580b",
   "metadata": {},
   "source": [
    "There are many ways to change the contents of lists besides assigning new values to\n",
    "individual elements:"
   ]
  },
  {
   "cell_type": "code",
   "execution_count": null,
   "id": "6aef21be",
   "metadata": {},
   "outputs": [],
   "source": [
    "odds.append(11)\n",
    "print('odds after adding a value:', odds)"
   ]
  },
  {
   "cell_type": "code",
   "execution_count": null,
   "id": "de3796c1",
   "metadata": {},
   "outputs": [],
   "source": [
    "removed_element = odds.pop(0)\n",
    "print('odds after removing the first element:', odds)\n",
    "print('removed_element:', removed_element)"
   ]
  },
  {
   "cell_type": "code",
   "execution_count": null,
   "id": "2e012520",
   "metadata": {},
   "outputs": [],
   "source": [
    "odds.reverse()\n",
    "print('odds after reversing:', odds)"
   ]
  },
  {
   "cell_type": "markdown",
   "id": "cfd34285",
   "metadata": {},
   "source": [
    "While modifying in place, it is useful to remember that Python treats lists in a slightly\n",
    "counter-intuitive way.\n",
    "\n",
    "As we saw earlier, when we modified the `mild_salsa` list item in-place, if we make a list, (attempt to)\n",
    "copy it and then modify this list, we can cause all sorts of trouble. This also applies to modifying\n",
    "the list using the above functions:"
   ]
  },
  {
   "cell_type": "code",
   "execution_count": null,
   "id": "52e38f8b",
   "metadata": {},
   "outputs": [],
   "source": [
    "odds = [3, 5, 7]\n",
    "primes = odds\n",
    "primes.append(2)\n",
    "print('primes:', primes)\n",
    "print('odds:', odds)"
   ]
  },
  {
   "cell_type": "markdown",
   "id": "db29a195",
   "metadata": {},
   "source": [
    "This is because Python stores a list in memory, and then can use multiple names to refer to the\n",
    "same list. If all we want to do is copy a (simple) list, we can again use the `list` function, so we\n",
    "do not modify a list we did not mean to:"
   ]
  },
  {
   "cell_type": "code",
   "execution_count": null,
   "id": "a322cf66",
   "metadata": {},
   "outputs": [],
   "source": [
    "odds = [3, 5, 7]\n",
    "primes = list(odds)\n",
    "primes.append(2)\n",
    "print('primes:', primes)\n",
    "print('odds:', odds)"
   ]
  },
  {
   "cell_type": "markdown",
   "id": "becd8ac2",
   "metadata": {},
   "source": [
    "Subsets of lists and strings can be accessed by specifying ranges of values in brackets,\n",
    "similar to how we accessed ranges of positions in a NumPy array.\n",
    "This is commonly referred to as \"slicing\" the list/string."
   ]
  },
  {
   "cell_type": "code",
   "execution_count": null,
   "id": "02a937fe",
   "metadata": {
    "lines_to_next_cell": 2
   },
   "outputs": [],
   "source": [
    "binomial_name = 'Drosophila melanogaster'\n",
    "group = binomial_name[0:10]\n",
    "print('group:', group)\n",
    "\n",
    "species = binomial_name[11:23]\n",
    "print('species:', species)\n",
    "\n",
    "chromosomes = ['X', 'Y', '2', '3', '4']\n",
    "autosomes = chromosomes[2:5]\n",
    "print('autosomes:', autosomes)\n",
    "\n",
    "last = chromosomes[-1]\n",
    "print('last:', last)"
   ]
  },
  {
   "cell_type": "markdown",
   "id": "3ac1f8cf",
   "metadata": {},
   "source": [
    "## Slicing From the End\n",
    "\n",
    "Use slicing to access only the last four characters of a string or entries of a list."
   ]
  },
  {
   "cell_type": "code",
   "execution_count": null,
   "id": "eb0fe462",
   "metadata": {
    "lines_to_next_cell": 2
   },
   "outputs": [],
   "source": [
    "string_for_slicing = 'Observation date: 02-Feb-2013'\n",
    "list_for_slicing = [['fluorine', 'F'],\n",
    "                    ['chlorine', 'Cl'],\n",
    "                    ['bromine', 'Br'],\n",
    "                    ['iodine', 'I'],\n",
    "                    ['astatine', 'At']]"
   ]
  },
  {
   "cell_type": "markdown",
   "id": "10bd38fa",
   "metadata": {},
   "source": [
    "Would your solution work regardless of whether you knew beforehand\n",
    "the length of the string or list\n",
    "(e.g. if you wanted to apply the solution to a set of lists of different lengths)?\n",
    "If not, try to change your approach to make it more robust.\n",
    "\n",
    "Hint: Remember that indices can be negative as well as positive"
   ]
  },
  {
   "cell_type": "markdown",
   "id": "cec4d04d",
   "metadata": {},
   "source": [
    "## Solution\n",
    "\n",
    "Use negative indices to count elements from the end of a container (such as list or string):"
   ]
  },
  {
   "cell_type": "code",
   "execution_count": null,
   "id": "1291d6d5",
   "metadata": {},
   "outputs": [],
   "source": [
    "string_for_slicing[-4:]\n",
    "list_for_slicing[-4:]"
   ]
  },
  {
   "cell_type": "markdown",
   "id": "bc00082d",
   "metadata": {},
   "source": [
    "## Non-Continuous Slices\n",
    "\n",
    "So far we've seen how to use slicing to take single blocks\n",
    "of successive entries from a sequence.\n",
    "But what if we want to take a subset of entries\n",
    "that aren't next to each other in the sequence?\n",
    "\n",
    "You can achieve this by providing a third argument\n",
    "to the range within the brackets, called the *step size*.\n",
    "The example below shows how you can take every third entry in a list:"
   ]
  },
  {
   "cell_type": "code",
   "execution_count": null,
   "id": "0fe52f3b",
   "metadata": {},
   "outputs": [],
   "source": [
    "primes = [2, 3, 5, 7, 11, 13, 17, 19, 23, 29, 31, 37]\n",
    "subset = primes[0:12:3]\n",
    "print('subset', subset)"
   ]
  },
  {
   "cell_type": "markdown",
   "id": "f5e9129a",
   "metadata": {},
   "source": [
    "Notice that the slice taken begins with the first entry in the range,\n",
    "followed by entries taken at equally-spaced intervals (the steps) thereafter.\n",
    "If you wanted to begin the subset with the third entry,\n",
    "you would need to specify that as the starting point of the sliced range:"
   ]
  },
  {
   "cell_type": "code",
   "execution_count": null,
   "id": "d5084681",
   "metadata": {},
   "outputs": [],
   "source": [
    "primes = [2, 3, 5, 7, 11, 13, 17, 19, 23, 29, 31, 37]\n",
    "subset = primes[2:12:3]\n",
    "print('subset', subset)"
   ]
  },
  {
   "cell_type": "markdown",
   "id": "6eddd969",
   "metadata": {},
   "source": [
    "Use the step size argument to create a new string\n",
    "that contains only every other character in the string\n",
    "\"In an octopus's garden in the shade\". Start with\n",
    "creating a variable to hold the string:"
   ]
  },
  {
   "cell_type": "code",
   "execution_count": null,
   "id": "2d073a0c",
   "metadata": {},
   "outputs": [],
   "source": [
    "beatles = \"In an octopus's garden in the shade\""
   ]
  },
  {
   "cell_type": "markdown",
   "id": "d23af5f0",
   "metadata": {},
   "source": [
    "What slice of `beatles` will produce the\n",
    "following output (i.e., the first character, third\n",
    "character, and every other character through the end\n",
    "of the string)?\n",
    "\n",
    "```text\n",
    "I notpssgre ntesae\n",
    "```\n",
    "\n",
    "## Solution\n",
    "\n",
    "To obtain every other character you need to provide a slice with the step\n",
    "size of 2:"
   ]
  },
  {
   "cell_type": "code",
   "execution_count": null,
   "id": "3f0afa18",
   "metadata": {},
   "outputs": [],
   "source": [
    "beatles[0:35:2]"
   ]
  },
  {
   "cell_type": "markdown",
   "id": "31c88b5d",
   "metadata": {},
   "source": [
    "You can also leave out the beginning and end of the slice to take the whole string\n",
    "and provide only the step argument to go every second\n",
    "element:"
   ]
  },
  {
   "cell_type": "code",
   "execution_count": null,
   "id": "95b19c25",
   "metadata": {},
   "outputs": [],
   "source": [
    "beatles[::2]"
   ]
  },
  {
   "cell_type": "markdown",
   "id": "4c4ddfcb",
   "metadata": {},
   "source": [
    "If you want to take a slice from the beginning of a sequence, you can omit the first index in the\n",
    "range:"
   ]
  },
  {
   "cell_type": "code",
   "execution_count": null,
   "id": "c8fde1ee",
   "metadata": {},
   "outputs": [],
   "source": [
    "date = 'Monday 4 January 2016'\n",
    "day = date[0:6]\n",
    "print('Using 0 to begin range:', day)\n",
    "day = date[:6]\n",
    "print('Omitting beginning index:', day)"
   ]
  },
  {
   "cell_type": "markdown",
   "id": "ed1cdeef",
   "metadata": {},
   "source": [
    "And similarly, you can omit the ending index in the range to take a slice to the very end of the\n",
    "sequence:"
   ]
  },
  {
   "cell_type": "code",
   "execution_count": null,
   "id": "49a4cabf",
   "metadata": {},
   "outputs": [],
   "source": [
    "months = ['jan', 'feb', 'mar', 'apr', 'may', 'jun', 'jul', 'aug', 'sep', 'oct', 'nov', 'dec']\n",
    "sond = months[8:12]\n",
    "print('With known last position:', sond)\n",
    "sond = months[8:len(months)]\n",
    "print('Using len() to get last entry:', sond)\n",
    "sond = months[8:]\n",
    "print('Omitting ending index:', sond)"
   ]
  },
  {
   "cell_type": "markdown",
   "id": "7cfc2190",
   "metadata": {},
   "source": [
    "## Overloading\n",
    "\n",
    "`+` usually means addition, but when used on strings or lists, it means \"concatenate\".\n",
    "Given that, what do you think the multiplication operator `*` does on lists?\n",
    "In particular, what will be the output of the following code?"
   ]
  },
  {
   "cell_type": "code",
   "execution_count": null,
   "id": "9a7d1ba4",
   "metadata": {},
   "outputs": [],
   "source": [
    "counts = [2, 4, 6, 8, 10]\n",
    "repeats = counts * 2\n",
    "print(repeats)"
   ]
  },
  {
   "cell_type": "markdown",
   "id": "a1cae0ca",
   "metadata": {},
   "source": [
    "1. `[2, 4, 6, 8, 10, 2, 4, 6, 8, 10]`\n",
    "2. `[4, 8, 12, 16, 20]`\n",
    "3. `[[2, 4, 6, 8, 10], [2, 4, 6, 8, 10]]`\n",
    "4. `[2, 4, 6, 8, 10, 4, 8, 12, 16, 20]`\n",
    "\n",
    "The technical term for this is *operator overloading*:\n",
    "a single operator, like `+` or `*`,\n",
    "can do different things depending on what it's applied to.\n",
    "\n",
    "## Keypoints\n",
    "\n",
    "- `[value1, value2, value3, ...]` creates a list.\n",
    "- Lists can contain any Python object, including lists (i.e., list of lists).\n",
    "- Lists are indexed and sliced with square brackets (e.g., `list[0]` and `list[2:9]`), in the same way as strings and arrays.\n",
    "- Lists are mutable (i.e., their values can be changed in place).\n",
    "- Strings are immutable (i.e., the characters in them cannot be changed).\n",
    "\n"
   ]
  }
 ],
 "metadata": {
  "jupytext": {
   "cell_metadata_filter": "-all",
   "main_language": "python",
   "notebook_metadata_filter": "-all"
  }
 },
 "nbformat": 4,
 "nbformat_minor": 5
}
