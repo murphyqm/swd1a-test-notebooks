{
 "cells": [
  {
   "cell_type": "markdown",
   "id": "37ad9317",
   "metadata": {},
   "source": [
    "# Repeating actions with loops\n",
    "\n",
    "- How can I do the same operations on many different values?\n",
    "\n",
    "To do that, we'll have to teach the computer how to\n",
    "repeat things.\n",
    "\n",
    "An example task that we might want to repeat is accessing numbers in a list,\n",
    "which we\n",
    "will do by printing each number on a line of its own."
   ]
  },
  {
   "cell_type": "code",
   "execution_count": null,
   "id": "425eb9c2",
   "metadata": {},
   "outputs": [],
   "source": [
    "odds = [1, 3, 5, 7]"
   ]
  },
  {
   "cell_type": "markdown",
   "id": "bcd3f0a0",
   "metadata": {},
   "source": [
    "In Python, a list is basically an ordered collection of elements, and every\n",
    "element has a unique number associated with it --- its index. This means that\n",
    "we can access elements in a list using their indices.\n",
    "For example, we can get the first number in the list `odds`,\n",
    "by using `odds[0]`. One way to print each number is to use four `print` statements:"
   ]
  },
  {
   "cell_type": "code",
   "execution_count": null,
   "id": "09b70c5e",
   "metadata": {},
   "outputs": [],
   "source": [
    "print(odds[0])\n",
    "print(odds[1])\n",
    "print(odds[2])\n",
    "print(odds[3])"
   ]
  },
  {
   "cell_type": "markdown",
   "id": "7180e31f",
   "metadata": {},
   "source": [
    "This is a bad approach for three reasons:\n",
    "\n",
    "1. **Not scalable**. Imagine you need to print a list that has hundreds\n",
    "  of elements. It might be easier to type them in manually.\n",
    "\n",
    "2. **Difficult to maintain**. If we want to decorate each printed element with an\n",
    "  asterisk or any other character, we would have to change four lines of code. While\n",
    "  this might not be a problem for small lists, it would definitely be a problem for\n",
    "  longer ones.\n",
    "\n",
    "3. **Fragile**. If we use it with a list that has more elements than what we initially\n",
    "  envisioned, it will only display part of the list's elements. A shorter list, on\n",
    "  the other hand, will cause an error because it will be trying to display elements of the\n",
    "  list that do not exist."
   ]
  },
  {
   "cell_type": "code",
   "execution_count": null,
   "id": "abba82dd",
   "metadata": {
    "lines_to_next_cell": 2
   },
   "outputs": [],
   "source": [
    "odds = [1, 3, 5]\n",
    "print(odds[0])\n",
    "print(odds[1])\n",
    "print(odds[2])\n",
    "print(odds[3])"
   ]
  },
  {
   "cell_type": "markdown",
   "id": "bd628ae8",
   "metadata": {},
   "source": [
    "Here's a better approach: a for loop."
   ]
  },
  {
   "cell_type": "code",
   "execution_count": null,
   "id": "6d65d2a6",
   "metadata": {
    "lines_to_next_cell": 2
   },
   "outputs": [],
   "source": [
    "odds = [1, 3, 5, 7]\n",
    "for num in odds:\n",
    "    print(num)"
   ]
  },
  {
   "cell_type": "markdown",
   "id": "dbfaa819",
   "metadata": {},
   "source": [
    "This is shorter --- certainly shorter than something that prints every number in a\n",
    "hundred-number list --- and more robust as well:"
   ]
  },
  {
   "cell_type": "code",
   "execution_count": null,
   "id": "de56d0be",
   "metadata": {
    "lines_to_next_cell": 2
   },
   "outputs": [],
   "source": [
    "odds = [1, 3, 5, 7, 9, 11]\n",
    "for num in odds:\n",
    "    print(num)"
   ]
  },
  {
   "cell_type": "markdown",
   "id": "e7f8a705",
   "metadata": {},
   "source": [
    "The improved version uses a for loop\n",
    "to repeat an operation --- in this case, printing --- once for each thing in a sequence.\n",
    "The general form of a loop is:"
   ]
  },
  {
   "cell_type": "code",
   "execution_count": null,
   "id": "7010d3cb",
   "metadata": {},
   "outputs": [],
   "source": [
    "for variable in collection:\n",
    "    # do things using variable, such as print"
   ]
  },
  {
   "cell_type": "markdown",
   "id": "8563d917",
   "metadata": {},
   "source": [
    "Using the odds example above, the loop might look like this:\n",
    "\n",
    "![](https://raw.githubusercontent.com/ARCTraining/python-novice-inflammation/refs/heads/main/episodes/fig/05-loops_image_num.png){alt=\"Loop variable 'num' being assigned the value of each element in the list odds in turn andthen being printed\"}\n",
    "\n",
    "where each number (`num`) in the variable `odds` is looped through and printed one number after\n",
    "another. The other numbers in the diagram denote which loop cycle the number was printed in (1\n",
    "being the first loop cycle, and 6 being the final loop cycle).\n",
    "\n",
    "We can call the loop variable anything we like, but\n",
    "there must be a colon at the end of the line starting the loop, and we must indent anything we\n",
    "want to run inside the loop. Unlike many other languages, there is no command to signify the end\n",
    "of the loop body (e.g. `end for`); everything indented after the `for` statement belongs to the loop."
   ]
  },
  {
   "cell_type": "markdown",
   "id": "51e3f976",
   "metadata": {},
   "source": [
    "## What's in a name?\n",
    "\n",
    "In the example above, the loop variable was given the name `num` as a mnemonic;\n",
    "it is short for 'number'.\n",
    "We can choose any name we want for variables. We might just as easily have chosen the name\n",
    "`banana` for the loop variable, as long as we use the same name when we invoke the variable inside\n",
    "the loop:"
   ]
  },
  {
   "cell_type": "code",
   "execution_count": null,
   "id": "e93672b0",
   "metadata": {},
   "outputs": [],
   "source": [
    "odds = [1, 3, 5, 7, 9, 11]\n",
    "for banana in odds:\n",
    "    print(banana)"
   ]
  },
  {
   "cell_type": "markdown",
   "id": "7dd73f10",
   "metadata": {},
   "source": [
    "It is a good idea to choose variable names that are meaningful, otherwise it would be more\n",
    "difficult to understand what the loop is doing."
   ]
  },
  {
   "cell_type": "markdown",
   "id": "c837dd01",
   "metadata": {},
   "source": [
    "Here's another loop that repeatedly updates a variable:"
   ]
  },
  {
   "cell_type": "code",
   "execution_count": null,
   "id": "ba651eea",
   "metadata": {},
   "outputs": [],
   "source": [
    "length = 0\n",
    "names = ['Curie', 'Darwin', 'Turing']\n",
    "for value in names:\n",
    "    length = length + 1\n",
    "print('There are', length, 'names in the list.')"
   ]
  },
  {
   "cell_type": "markdown",
   "id": "5508c45e",
   "metadata": {},
   "source": [
    "It's worth tracing the execution of this little program step by step.\n",
    "Since there are three names in `names`,\n",
    "the statement on line 4 will be executed three times.\n",
    "The first time around,\n",
    "`length` is zero (the value assigned to it on line 1)\n",
    "and `value` is `Curie`.\n",
    "The statement adds 1 to the old value of `length`,\n",
    "producing 1,\n",
    "and updates `length` to refer to that new value.\n",
    "The next time around,\n",
    "`value` is `Darwin` and `length` is 1,\n",
    "so `length` is updated to be 2.\n",
    "After one more update,\n",
    "`length` is 3;\n",
    "since there is nothing left in `names` for Python to process,\n",
    "the loop finishes\n",
    "and the `print` function on line 5 tells us our final answer.\n",
    "\n",
    "Note that a loop variable is a variable that is being used to record progress in a loop.\n",
    "It still exists after the loop is over,\n",
    "and we can re-use variables previously defined as loop variables as well:"
   ]
  },
  {
   "cell_type": "code",
   "execution_count": null,
   "id": "a552c85d",
   "metadata": {},
   "outputs": [],
   "source": [
    "name = 'Rosalind'\n",
    "for name in ['Curie', 'Darwin', 'Turing']:\n",
    "    print(name)\n",
    "print('after the loop, name is', name)"
   ]
  },
  {
   "cell_type": "markdown",
   "id": "189450fd",
   "metadata": {},
   "source": [
    "Note also that finding the length of an object is such a common operation\n",
    "that Python actually has a built-in function to do it called `len`:"
   ]
  },
  {
   "cell_type": "code",
   "execution_count": null,
   "id": "703b6f99",
   "metadata": {
    "lines_to_next_cell": 2
   },
   "outputs": [],
   "source": [
    "print(len([0, 1, 2, 3]))"
   ]
  },
  {
   "cell_type": "markdown",
   "id": "674f2c6a",
   "metadata": {},
   "source": [
    "`len` is much faster than any function we could write ourselves,\n",
    "and much easier to read than a two-line loop;\n",
    "it will also give us the length of many other things that we haven't met yet,\n",
    "so we should always use it when we can."
   ]
  },
  {
   "cell_type": "markdown",
   "id": "a8f39a11",
   "metadata": {},
   "source": [
    "## From 1 to N\n",
    "\n",
    "Python has a built-in function called `range` that generates a sequence of numbers. `range` can\n",
    "accept 1, 2, or 3 parameters.\n",
    "\n",
    "- If one parameter is given, `range` generates a sequence of that length,\n",
    "  starting at zero and incrementing by 1.\n",
    "  For example, `range(3)` produces the numbers `0, 1, 2`.\n",
    "- If two parameters are given, `range` starts at\n",
    "  the first and ends just before the second, incrementing by one.\n",
    "  For example, `range(2, 5)` produces `2, 3, 4`.\n",
    "- If `range` is given 3 parameters,\n",
    "  it starts at the first one, ends just before the second one, and increments by the third one.\n",
    "  For example, `range(3, 10, 2)` produces `3, 5, 7, 9`.\n",
    "\n",
    "Using `range`,\n",
    "write a loop that prints the first 3 natural numbers:"
   ]
  },
  {
   "cell_type": "code",
   "execution_count": null,
   "id": "d77ccd3f",
   "metadata": {
    "lines_to_next_cell": 2
   },
   "outputs": [],
   "source": [
    "1\n",
    "2\n",
    "3"
   ]
  },
  {
   "cell_type": "markdown",
   "id": "a6f3d905",
   "metadata": {},
   "source": [
    "## Understanding the loops\n",
    "\n",
    "Given the following loop:"
   ]
  },
  {
   "cell_type": "code",
   "execution_count": null,
   "id": "071e33e4",
   "metadata": {},
   "outputs": [],
   "source": [
    "word = 'oxygen'\n",
    "for letter in word:\n",
    "    print(letter)"
   ]
  },
  {
   "cell_type": "markdown",
   "id": "cb51637c",
   "metadata": {},
   "source": [
    "How many times is the body of the loop executed?\n",
    "\n",
    "- 3 times\n",
    "- 4 times\n",
    "- 5 times\n",
    "- 6 times"
   ]
  },
  {
   "cell_type": "markdown",
   "id": "aefe8d57",
   "metadata": {},
   "source": [
    "## Computing Powers With Loops\n",
    "\n",
    "Exponentiation is built into Python:"
   ]
  },
  {
   "cell_type": "code",
   "execution_count": null,
   "id": "52135ab8",
   "metadata": {},
   "outputs": [],
   "source": [
    "print(5 ** 3)"
   ]
  },
  {
   "cell_type": "markdown",
   "id": "1c6c4bb1",
   "metadata": {},
   "source": [
    "Write a loop that calculates the same result as `5 ** 3` using\n",
    "multiplication (and without exponentiation)."
   ]
  },
  {
   "cell_type": "markdown",
   "id": "9a157d1b",
   "metadata": {},
   "source": [
    "## Solution"
   ]
  },
  {
   "cell_type": "code",
   "execution_count": null,
   "id": "e1e9a96a",
   "metadata": {},
   "outputs": [],
   "source": [
    "result = 1\n",
    "for number in range(0, 3):\n",
    "    result = result * 5\n",
    "print(result)"
   ]
  },
  {
   "cell_type": "markdown",
   "id": "21b4d197",
   "metadata": {},
   "source": [
    "## Summing a list\n",
    "\n",
    "Write a loop that calculates the sum of elements in a list\n",
    "by adding each element and printing the final value,\n",
    "so `[124, 402, 36]` prints 562"
   ]
  },
  {
   "cell_type": "markdown",
   "id": "5f0de43c",
   "metadata": {},
   "source": [
    "## Solution"
   ]
  },
  {
   "cell_type": "code",
   "execution_count": null,
   "id": "2355c6bf",
   "metadata": {},
   "outputs": [],
   "source": [
    "numbers = [124, 402, 36]\n",
    "summed = 0\n",
    "for num in numbers:\n",
    "    summed = summed + num\n",
    "print(summed)"
   ]
  },
  {
   "cell_type": "markdown",
   "id": "ff6cf0fb",
   "metadata": {},
   "source": [
    "## Computing the Value of a Polynomial\n",
    "\n",
    "The built-in function `enumerate` takes a sequence (e.g. a [list](04-lists.md)) and\n",
    "generates a new sequence of the same length. Each element of the new sequence is a pair composed\n",
    "of the index (0, 1, 2,...) and the value from the original sequence:"
   ]
  },
  {
   "cell_type": "code",
   "execution_count": null,
   "id": "8ae0b1af",
   "metadata": {},
   "outputs": [],
   "source": [
    "for idx, val in enumerate(a_list):\n",
    "    # Do something using idx and val"
   ]
  },
  {
   "cell_type": "markdown",
   "id": "2b1323cf",
   "metadata": {},
   "source": [
    "The code above loops through `a_list`, assigning the index to `idx` and the value to `val`.\n",
    "\n",
    "Suppose you have encoded a polynomial as a list of coefficients in\n",
    "the following way: the first element is the constant term, the\n",
    "second element is the coefficient of the linear term, the third is the\n",
    "coefficient of the quadratic term, where the polynomial is of the form $ax^0 + bx^1 + cx^2$."
   ]
  },
  {
   "cell_type": "code",
   "execution_count": null,
   "id": "c1caa1a0",
   "metadata": {},
   "outputs": [],
   "source": [
    "x = 5\n",
    "coefs = [2, 4, 3]\n",
    "y = coefs[0] * x**0 + coefs[1] * x**1 + coefs[2] * x**2\n",
    "print(y)"
   ]
  },
  {
   "cell_type": "markdown",
   "id": "1ec47006",
   "metadata": {},
   "source": [
    "Write a loop using `enumerate(coefs)` which computes the value `y` of any\n",
    "polynomial, given `x` and `coefs`.\n",
    "\n",
    "## Solution"
   ]
  },
  {
   "cell_type": "code",
   "execution_count": null,
   "id": "fe3b80ae",
   "metadata": {},
   "outputs": [],
   "source": [
    "y = 0\n",
    "for idx, coef in enumerate(coefs):\n",
    "    y = y + coef * x**idx"
   ]
  },
  {
   "cell_type": "markdown",
   "id": "501cde76",
   "metadata": {},
   "source": [
    "### Keypoints\n",
    "\n",
    "- Use `for variable in sequence` to process the elements of a sequence one at a time.\n",
    "- The body of a `for` loop must be indented.\n",
    "- Use `len(thing)` to determine the length of something that contains other values.\n",
    "\n"
   ]
  }
 ],
 "metadata": {
  "jupytext": {
   "cell_metadata_filter": "-all",
   "main_language": "python",
   "notebook_metadata_filter": "-all"
  }
 },
 "nbformat": 4,
 "nbformat_minor": 5
}
