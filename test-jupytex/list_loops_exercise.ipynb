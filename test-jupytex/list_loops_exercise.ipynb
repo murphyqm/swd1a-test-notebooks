{
 "cells": [
  {
   "cell_type": "markdown",
   "id": "3516aaad-649f-4d5f-b264-b42e819fb89a",
   "metadata": {},
   "source": [
    "# Putting it in to practise\n",
    "\n",
    "The aim of this exercise is to put into practise what you've learned so far about:\n",
    "\n",
    "1. Loops\n",
    "2. Lists\n",
    "3. Variable assignments\n",
    "4. Built-in functions\n",
    "\n",
    "## Remember to apply PRIMM\n",
    "\n",
    "When you see a piece of code, remember:\n",
    "\n",
    "1. Before you do anything else, **predict** what the output is going to be.\n",
    "2. Then **run** it, and compare the output to your prediction.\n",
    "3. You can begin to **investigate**, especially if your guess is way off - what information can you find in the notes, or online?\n",
    "4. Once you've tried to understand how the code works, try to **modify** it and make some changes.\n",
    "5. Then, you're ready to start **making** your own code!\n",
    "\n",
    "We will mainly be cycling through stages 1 and 2, with some of the later stages coming in as you build more knowledge."
   ]
  },
  {
   "cell_type": "markdown",
   "id": "ba2d074b-76ad-48ac-b282-ee0aec8ba262",
   "metadata": {},
   "source": [
    "# Compiling book review results\n",
    "\n",
    "In this exercise, we're going to work together to build a simple program that takes some book review data you've compiled and does some basic analysis.\n",
    "\n",
    "> You decide you want to keep track of the book's you've been reading this year, and give them a review while they're still fresh in your mind. You also want to keep track of how long they are, so you can see whether you've a better experience with novellas or sagas. You want to build a very simple program in Python that let's you see at a glance what the average rating you've given books is (in total), and also pulls out books with a high rating.\n",
    "\n",
    "For each book, we want the following information:\n",
    "\n",
    "- The title of the book (string)\n",
    "- The rating of the book (integer or float between 1 and 10)\n",
    "- The number of pages in the book (integer)\n",
    "\n",
    "We can create a list for each book, that looks something like this: `[book_title, book_rating, number_of_pages]`;\n",
    "we can then put that list in another list called `book_reviews`:\n",
    "\n",
    "```python\n",
    "book_reviews = [\n",
    "    [book_title, book_rating, number_of_pages],\n",
    "    [book_title, book_rating, number_of_pages],\n",
    "    [book_title, book_rating, number_of_pages],\n",
    "    [book_title, book_rating, number_of_pages]\n",
    "    # You can add more books as you like\n",
    "]\n",
    "\n",
    "```\n",
    "\n",
    "Once you've created a list of (real or imaginary!) books, ratings, and page lengths, try to do the following:\n",
    "\n",
    "- Calculate the Average Rating: Loop through the list and calculate the average rating of all the books.\n",
    "- Calculate the Average Number of Pages: Using a loop, calculate the average number of pages of all the books reviewed.\n",
    "- What was the Highest Rating you gave a book? Use the `max()` function to find it! What about the worst book you read?\n",
    "- How long was the longest book you read? Use the `max()` function to find it! What about the shortest book you read?\n",
    "- Calculate the Total Number of Pages: Loop through the list again and calculate the total number of pages across all the books reviewed.\n",
    "\n",
    "We'll work through these step-by-step below!\n",
    "\n",
    "In the next session (Day 2), we'll continue and try to complete these exercises:\n",
    "\n",
    "- Find the Book with the Highest Rating: Loop through the list and find out which book has the highest rating and print its title.\n",
    "- Books with Rating Above 8: Create a new list that contains only the titles of books that have a rating above 8. Print this list.\n",
    "- Create a Summary: Print out a short summary that includes:\n",
    "       - The average rating of all books.\n",
    "       - The title of the book with the highest rating.\n",
    "       - The average number of pages.\n",
    "       - The list of books with a rating above 8.\n",
    "\n"
   ]
  },
  {
   "cell_type": "markdown",
   "id": "f92d0739-c0c9-4488-b954-1e1ca1b0902b",
   "metadata": {
    "jp-MarkdownHeadingCollapsed": true
   },
   "source": [
    "## Create your database of books\n",
    "\n",
    "Let's create a simple book database."
   ]
  },
  {
   "cell_type": "code",
   "execution_count": null,
   "id": "6a3d865a-2fc4-45d3-96bc-03b864eaea9e",
   "metadata": {},
   "outputs": [],
   "source": [
    "# Step 1: create a list of lists with book details\n",
    "# Remember to make the book title a string,\n",
    "# the book rating an integer or float between 1 and 10,\n",
    "# and the number of page an integer (without an upper limit)\n",
    "\n",
    "# What will happen if you run this cell without replacing anything?\n",
    "\n",
    "book_reviews = [\n",
    "    [book_title, book_rating, number_of_pages],\n",
    "    [book_title, book_rating, number_of_pages],\n",
    "    [book_title, book_rating, number_of_pages],\n",
    "    [book_title, book_rating, number_of_pages]\n",
    "    # You can add more books as you like\n",
    "]"
   ]
  },
  {
   "cell_type": "markdown",
   "id": "2a17daac-2960-4226-8cb3-7bca1a159a9d",
   "metadata": {
    "jp-MarkdownHeadingCollapsed": true
   },
   "source": [
    "## Calculate the average rating of the books\n",
    "\n",
    "How much have you enjoyed the books you've been reading recently? Let's calculate the **average rating** you've given your recently read pile.\n",
    "\n",
    "How do we calculate the *mean* rating?\n",
    "\n",
    "1. We need to find the total rating of all the books added together\n",
    "2. We need to find the total number of books\n",
    "3. We need to divide the total rating by the total number of books\n",
    "\n",
    "> Note that we are putting into practise using loops and lists; we will discover more flexible, fast and sophisticated ways of doing this type of analysis later in the course!"
   ]
  },
  {
   "cell_type": "code",
   "execution_count": null,
   "id": "6471d7ed-1900-424b-9a42-37b06e7a7ed5",
   "metadata": {},
   "outputs": [],
   "source": [
    "# let's remind ourselves of how indexing and iterating through a list of lists works\n",
    "\n",
    "# for each of the next cells, ensure you **predict** the output before you run!\n",
    "# Once you've run a cell, **modify** it's output and predict and run again!\n",
    "\n",
    "book_reviews[0]"
   ]
  },
  {
   "cell_type": "code",
   "execution_count": null,
   "id": "9fbd7cad-453e-4ce9-ae14-921d513d27e5",
   "metadata": {},
   "outputs": [],
   "source": [
    "book_reviews[-1]"
   ]
  },
  {
   "cell_type": "code",
   "execution_count": null,
   "id": "95516632-49a5-45bd-914a-30157249b8d5",
   "metadata": {},
   "outputs": [],
   "source": [
    "book_reviews[0][0]"
   ]
  },
  {
   "cell_type": "code",
   "execution_count": null,
   "id": "240ce7ff-88fc-4f26-b65a-6bded772e975",
   "metadata": {},
   "outputs": [],
   "source": [
    "book_reviews[-1][2]"
   ]
  },
  {
   "cell_type": "code",
   "execution_count": null,
   "id": "e8530827-ea06-4eea-9608-429573051180",
   "metadata": {},
   "outputs": [],
   "source": [
    "# ok, now let's loop through the list of book reviews and print them out\n",
    "\n",
    "# Predict before you run, what will the output be?\n",
    "\n",
    "for i in book_reviews:\n",
    "    print(i)"
   ]
  },
  {
   "cell_type": "code",
   "execution_count": null,
   "id": "532429de-6f44-4403-9b41-b5fc775a99b8",
   "metadata": {},
   "outputs": [],
   "source": [
    "# let's change i to something more intuitive\n",
    "# complete the code below\n",
    "# predict before you run\n",
    "\n",
    "for review in book_reviews:\n",
    "    print"
   ]
  },
  {
   "cell_type": "code",
   "execution_count": null,
   "id": "e18a4e66-d956-4cb9-8a84-98f7cb2de071",
   "metadata": {},
   "outputs": [],
   "source": [
    "# what is the type of the variable \"review\"?\n",
    "# complete the code below\n",
    "# predict before you run\n",
    "\n",
    "for review in book_reviews:\n",
    "    print(type("
   ]
  },
  {
   "cell_type": "code",
   "execution_count": null,
   "id": "b0eb2f61-b3f0-4e70-b0f5-dba47959a787",
   "metadata": {},
   "outputs": [],
   "source": [
    "# given the output \"review\", how do we print out the score\n",
    "# out of ten for each book?\n",
    "\n",
    "# predict the output of this single review\n",
    "\n",
    "book_reviews[0][1]"
   ]
  },
  {
   "cell_type": "code",
   "execution_count": null,
   "id": "d5552e9e-986b-4d76-b37e-b98cd832d401",
   "metadata": {},
   "outputs": [],
   "source": [
    "# How do we incorporate this into our loop?\n",
    "\n",
    "# Complete the code below so it prints out\n",
    "# the score out of ten for each book\n",
    "for review in book_reviews:\n",
    "    print(review[])"
   ]
  },
  {
   "cell_type": "code",
   "execution_count": null,
   "id": "25c7ef0c-2208-4320-8584-4f55ec02a19e",
   "metadata": {},
   "outputs": [],
   "source": [
    "# looped addition\n",
    "\n",
    "# the way we are going to find the total summed reviews\n",
    "# is by looping through the list and adding each review\n",
    "# to a starting value of zero\n",
    "# let's try this with an example loop first\n",
    "\n",
    "# 1. Predict what this loop will do when you run it\n",
    "# 2. Run it and compare the output to your assumption\n",
    "# 3. How can you mofidy it? How can you break it?\n",
    "\n",
    "# set a total variable = 0\n",
    "total = 0\n",
    "list_of_vals = [2, 3, 4, 5, 6, 7]\n",
    "\n",
    "for num in list_of_vals:\n",
    "    total = total + num\n",
    "    print(total)\n",
    "\n",
    "print(\"total number: \", total)"
   ]
  },
  {
   "cell_type": "code",
   "execution_count": null,
   "id": "3312efb6-51c5-4d34-8ede-8ae0482913bb",
   "metadata": {},
   "outputs": [],
   "source": [
    "# what about this loop?\n",
    "\n",
    "total = 0\n",
    "list_of_vals = [2, 3, 4, 5, 6, 7]\n",
    "\n",
    "for num in list_of_vals:\n",
    "    total += num\n",
    "    print(total)\n",
    "\n",
    "print(\"total number: \", total)"
   ]
  },
  {
   "cell_type": "code",
   "execution_count": null,
   "id": "83a31b9a-b56e-4730-abb5-b35404ace15c",
   "metadata": {},
   "outputs": [],
   "source": [
    "# Now, let's apply this logic to our book review list!\n",
    "\n",
    "# Assign the total_reviews variable\n",
    "total_reviews = 0"
   ]
  },
  {
   "cell_type": "code",
   "execution_count": null,
   "id": "67bd278a-4e68-4b56-8110-580f52eb2255",
   "metadata": {},
   "outputs": [],
   "source": [
    "# create a loop that instead of printing the value, adds it to the total\n",
    "\n",
    "# complete the code below and predict the output\n",
    "for review in book_reviews:\n",
    "    total_reviews += review[]\n",
    "    print(total_reviews)\n",
    "\n",
    "# What happens if you re-run this cell, without re-running the cell above?\n",
    "# What might you change to make this a bit easier to use?"
   ]
  },
  {
   "cell_type": "code",
   "execution_count": null,
   "id": "f071cb30-f17a-41e7-87a1-ca0b55ebc4f1",
   "metadata": {},
   "outputs": [],
   "source": [
    "# to calculate the average, we need to divide the total review score\n",
    "# by the number of reviews\n",
    "\n",
    "# how can we use the len() function to do this?\n",
    "len()"
   ]
  },
  {
   "cell_type": "code",
   "execution_count": null,
   "id": "ba0e622e-7d2e-43bc-87f2-27870724175b",
   "metadata": {},
   "outputs": [],
   "source": [
    "# how could we find this with a loop instead?\n",
    "\n",
    "# complete the code below\n",
    "\n",
    "tally = 0\n",
    "for review in book_reviews:\n",
    "    tally += ?\n",
    "\n",
    "print()\n"
   ]
  },
  {
   "cell_type": "code",
   "execution_count": null,
   "id": "6ae5e6fa-3716-45ab-ae68-877889a1f0dd",
   "metadata": {},
   "outputs": [],
   "source": [
    "# assign the number of book reviews to a variable\n",
    "\n",
    "# complete the code below\n",
    "num_reviews = len()"
   ]
  },
  {
   "cell_type": "code",
   "execution_count": null,
   "id": "4702f9d2-a59b-42bf-a4e2-101132a79009",
   "metadata": {},
   "outputs": [],
   "source": [
    "# calculate the average review\n",
    "\n",
    "# complete the code below\n",
    "\n",
    "av_review = ? / ?\n",
    "\n",
    "print(av_review)"
   ]
  },
  {
   "cell_type": "code",
   "execution_count": null,
   "id": "ad190707-9637-44a5-90fe-40603a35a923",
   "metadata": {},
   "outputs": [],
   "source": [
    "# let's condense that into a single cell!\n",
    "\n",
    "# Assign the total_reviews variable\n",
    "total_reviews = 0\n",
    "\n",
    "# create a loop that instead of printing the value, adds it to the total\n",
    "# complete the code below and predict the output\n",
    "for review in book_reviews:\n",
    "    total_reviews += review[]\n",
    "\n",
    "# complete the code below to calculate how many reviews there are\n",
    "num_reviews = len()\n",
    "\n",
    "# calculate the average review score\n",
    "# complete the following line\n",
    "av_review = ? / ?\n",
    "\n",
    "print(\"The average review is\", av_review)"
   ]
  },
  {
   "cell_type": "markdown",
   "id": "9766ab36-91aa-478c-9df7-b7f23c86c5f0",
   "metadata": {
    "jp-MarkdownHeadingCollapsed": true
   },
   "source": [
    "## Calculate the average length of the books you've read\n",
    "\n",
    "Let's use the same logic as we did for calculating the average score, and now use it for the average number of pages.\n",
    "\n",
    "Let's take the code incomplete snippet from the previous cell and modify it to suit this question:\n",
    "\n",
    "```python\n",
    "# Assign the total_reviews variable\n",
    "total_reviews = 0\n",
    "\n",
    "# create a loop that instead of printing the value, adds it to the total\n",
    "# complete the code below and predict the output\n",
    "for review in book_reviews:\n",
    "    total_reviews += review[]\n",
    "\n",
    "# complete the code below to calculate how many reviews there are\n",
    "num_reviews = len()\n",
    "\n",
    "# calculate the average review score\n",
    "# complete the following line\n",
    "av_review = ? / ?\n",
    "\n",
    "print(\"The average review is\", av_review)\n",
    "```\n",
    "\n",
    "We need to change:\n",
    "\n",
    "- The loop, so that it pulls out the number of pages instead of the review\n",
    "- The labels, so that it explains we are looking at number of pages"
   ]
  },
  {
   "cell_type": "code",
   "execution_count": null,
   "id": "bac72a96-2bb3-4280-a670-cb1cb1a0d357",
   "metadata": {},
   "outputs": [],
   "source": [
    "# Modify the below code snippet,\n",
    "# changing variable names and comments\n",
    "# to descrive finding the average number of pages.\n",
    "# Also change the loop so that it adds the page count\n",
    "# instead of the review.\n",
    "\n",
    "# Assign the total_reviews variable\n",
    "total_reviews = 0\n",
    "\n",
    "# create a loop that instead of printing the value, adds it to the total\n",
    "# complete the code below and predict the output\n",
    "for review in book_reviews:\n",
    "    total_reviews += review[]\n",
    "\n",
    "# complete the code below to calculate how many reviews there are\n",
    "num_reviews = len()\n",
    "\n",
    "# calculate the average review score\n",
    "# complete the following line\n",
    "av_review = ? / ?\n",
    "\n",
    "print(\"The average review is\", av_review)"
   ]
  },
  {
   "cell_type": "markdown",
   "id": "1aaabdf8-c6e2-45c0-8478-e838d96fdd45",
   "metadata": {},
   "source": [
    "## Calculate the max review score\n",
    "\n",
    "What was the maximum review score we gave?\n",
    "\n",
    "We can use the inbuilt Python function `max()` to calculate this.\n",
    "\n",
    "How do we get the score values into the `max()` function?"
   ]
  },
  {
   "cell_type": "code",
   "execution_count": null,
   "id": "30491caa-876f-4dec-bbc6-bdfd4e2ab9ba",
   "metadata": {},
   "outputs": [],
   "source": [
    "# how does the max() function work?\n",
    "\n",
    "# predict the output of this function call before running:\n",
    "\n",
    "max(1, 2, 3, 4, 5, 6)"
   ]
  },
  {
   "cell_type": "code",
   "execution_count": null,
   "id": "dfc66d2f-e939-47e3-bd19-9a916287024d",
   "metadata": {},
   "outputs": [],
   "source": [
    "# what kind of input does max() take?\n",
    "# Investigate\n",
    "help(max)"
   ]
  },
  {
   "cell_type": "markdown",
   "id": "c2d92dae-941c-4250-a841-ee493cdca2f7",
   "metadata": {},
   "source": [
    "Ok, but what is an iterable?\n",
    "\n",
    "Lets find the [documentation here](https://docs.python.org/3/library/functions.html#max);\n",
    "helpfully, [iterable](https://docs.python.org/3/glossary.html#term-iterable) is linked!\n",
    "\n",
    ">What sort of data can be included as an iterable, that we've already used?"
   ]
  },
  {
   "cell_type": "code",
   "execution_count": null,
   "id": "90c8a6fd-10dd-489c-abe2-3bdbf922203d",
   "metadata": {},
   "outputs": [],
   "source": [
    "# how does the max() function work?\n",
    "\n",
    "# predict the output of this function call before running:\n",
    "\n",
    "max([1, 2, 3, 4, 5, 6])"
   ]
  },
  {
   "cell_type": "markdown",
   "id": "10b19521-0b93-4366-b743-c1dfd9f50379",
   "metadata": {},
   "source": [
    "So we should be able to return the max score, if we group all the scores into a list.\n",
    "\n",
    "Let's remind ourselves how adding to lists works"
   ]
  },
  {
   "cell_type": "code",
   "execution_count": null,
   "id": "78dd084b-275a-4e46-b8e4-26cab4ce4dcb",
   "metadata": {},
   "outputs": [],
   "source": [
    "# let's first create an empty list\n",
    "\n",
    "empty_list = []\n",
    "\n",
    "# and now, create an example list:\n",
    "example_list = [3, 4, 1, 6, 8]"
   ]
  },
  {
   "cell_type": "code",
   "execution_count": null,
   "id": "f4799a44-2544-4d6f-992c-65a8bb0413d7",
   "metadata": {},
   "outputs": [],
   "source": [
    "# remember to predict the output before running:\n",
    "\n",
    "for value in example_list:\n",
    "    empty_list.append(value)\n",
    "\n",
    "print(empty_list)"
   ]
  },
  {
   "cell_type": "code",
   "execution_count": null,
   "id": "3736acda-c73c-4c3a-9021-53ecfbfe13c8",
   "metadata": {},
   "outputs": [],
   "source": [
    "# Instead of looping through a list of numbers\n",
    "# and appending them to a new list\n",
    "# let's loop through our list of reviews\n",
    "# and append just the score to our new list\n",
    "\n",
    "score_list = []\n",
    "\n",
    "# create a loop that instead of printing the value, adds it to the total\n",
    "# complete the code below and predict the output\n",
    "for review in book_reviews:\n",
    "    score_list.append(review[])\n",
    "\n",
    "print(score_list)\n",
    "print(type(score_list))"
   ]
  },
  {
   "cell_type": "code",
   "execution_count": null,
   "id": "a68cbcdd-2c51-4ab9-b659-82a695b38c05",
   "metadata": {},
   "outputs": [],
   "source": [
    "# now, use the max() function to find the maximum score and print it out\n",
    "\n",
    "max_score = max()\n",
    "\n",
    "print()"
   ]
  },
  {
   "cell_type": "markdown",
   "id": "0edde3ca-bec9-4acb-8f20-76efb5242d1e",
   "metadata": {},
   "source": [
    "OK, now how would you repeat this to find the worst rating you gave a book?"
   ]
  },
  {
   "cell_type": "code",
   "execution_count": null,
   "id": "868b6e92-ea5d-4e05-89a3-16c4508a93b2",
   "metadata": {},
   "outputs": [],
   "source": [
    "# use another inbuilt function on your score_list\n",
    "\n"
   ]
  },
  {
   "cell_type": "markdown",
   "id": "02251667-ab61-4283-b2ef-7a4469138d1a",
   "metadata": {},
   "source": [
    "## Calculate the page total of the longest/shortest books you read\n",
    "\n",
    "Using the same logic as you did for finding the highest and lowest review score, calculate the maximum and minimum number of total page count for the books you've read."
   ]
  },
  {
   "cell_type": "code",
   "execution_count": null,
   "id": "4e1f7025-061a-478d-847c-535ead7495cd",
   "metadata": {},
   "outputs": [],
   "source": [
    "pages_list = []\n",
    "\n",
    "# create a loop that instead of printing the value, adds it to the total\n",
    "# complete the code below and predict the output\n",
    "for review in book_reviews:\n",
    "    pages_list.append(review[])\n",
    "\n",
    "print(pages_list)"
   ]
  },
  {
   "cell_type": "code",
   "execution_count": null,
   "id": "1b8b2069-0bfc-489d-b3e8-9f2b746c0d67",
   "metadata": {},
   "outputs": [],
   "source": [
    "# use inbuilt functions to calculate the maximum and minimum"
   ]
  },
  {
   "cell_type": "markdown",
   "id": "2d63c504-abca-4457-a6e4-17013d316168",
   "metadata": {},
   "source": [
    "## Calculate the total number of pages you read this year\n",
    "\n",
    "You've already done this as a step when calculating the average page length,\n",
    "but print out with a nice format the total number of pages you've read"
   ]
  },
  {
   "cell_type": "code",
   "execution_count": null,
   "id": "10076227-7157-44c4-a2ea-76aee0ad841b",
   "metadata": {},
   "outputs": [],
   "source": [
    "# Use a loop to add up the total number of pages!\n",
    "\n"
   ]
  },
  {
   "cell_type": "code",
   "execution_count": null,
   "id": "a94c48c6-131d-44b2-b07d-ee071313d189",
   "metadata": {},
   "outputs": [],
   "source": []
  }
 ],
 "metadata": {
  "kernelspec": {
   "display_name": "Python 3 (ipykernel)",
   "language": "python",
   "name": "python3"
  },
  "language_info": {
   "codemirror_mode": {
    "name": "ipython",
    "version": 3
   },
   "file_extension": ".py",
   "mimetype": "text/x-python",
   "name": "python",
   "nbconvert_exporter": "python",
   "pygments_lexer": "ipython3",
   "version": "3.13.2"
  }
 },
 "nbformat": 4,
 "nbformat_minor": 5
}
